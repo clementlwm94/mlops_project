{
 "cells": [
  {
   "cell_type": "code",
   "execution_count": null,
   "metadata": {
    "vscode": {
     "languageId": "plaintext"
    }
   },
   "outputs": [],
   "source": [
    "data_dict = {\n",
    "    'race': ['chinese', 'malay', 'indian'],\n",
    "    'gender': ['male', 'female'],\n",
    "    'mother_occupation':['professional','non-professional'],\n",
    "    'household_income':['<4000',\">=4000\"],\n",
    "    'mother_edu':[\"no education\",\"primary/secondary\",\"university\"],\n",
    "    'delivery_type':[\"normal\",\"not normal\"],\n",
    "    'smoke_mother':[\"No\",\"Yes\"],\n",
    "    'night_bottle_feeding':[\"No,\"Yes\"],\n",
    "    'caries':[\"No\",\"Yes\"]\n",
    "}"
   ]
  }
 ],
 "metadata": {
  "language_info": {
   "name": "python"
  }
 },
 "nbformat": 4,
 "nbformat_minor": 2
}
